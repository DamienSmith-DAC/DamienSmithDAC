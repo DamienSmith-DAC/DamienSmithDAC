{
 "cells": [
  {
   "cell_type": "code",
   "execution_count": 1,
   "metadata": {
    "collapsed": true
   },
   "outputs": [],
   "source": [
    "import pandas as pd\n",
    "import numpy as np\n",
    "\n",
    "with open('/Users/byronallen/Desktop/v2_users.txt', 'r') as users:\n",
    "    users = users.read()\n",
    "\n",
    "tokenized = users.split('\\n')\n",
    "tokenized\n",
    "\n",
    "def ExtractUsers(tokenized_document=None):\n",
    "    \n",
    "    sAMAccountName_list=[]\n",
    "    first_names=[]\n",
    "    last_names=[]\n",
    "    \n",
    "    for x in tokenized_document:\n",
    "        \n",
    "        if x.startswith('sAMAccountName:') == True:\n",
    "            sAMAccountName = x.replace('sAMAccountName:', '').strip()\n",
    "            sAMAccountName_list.append(sAMAccountName)\n",
    "        \n",
    "        if x.startswith('name:') == True:\n",
    "            name = x.replace('name:', '').split(' ')\n",
    "            try:\n",
    "                first_name = name[1]\n",
    "            except:\n",
    "                first_name = 'none'\n",
    "            try:\n",
    "                last_name = name[2]\n",
    "            except:\n",
    "                last_name = 'none'\n",
    "                \n",
    "            first_names.append(first_name)\n",
    "            last_names.append(last_name)\n",
    "            \n",
    "    result = zip(sAMAccountName_list, first_names, last_names)\n",
    "    return result\n",
    "\n",
    "pd.DataFrame(ExtractUsers(tokenized_document=tokenized), columns=['username','firstname','lastname']).to_csv('filename.csv')"
   ]
  },
  {
   "cell_type": "code",
   "execution_count": null,
   "metadata": {
    "collapsed": true
   },
   "outputs": [],
   "source": []
  }
 ],
 "metadata": {
  "kernelspec": {
   "display_name": "Python 2",
   "language": "python",
   "name": "python2"
  },
  "language_info": {
   "codemirror_mode": {
    "name": "ipython",
    "version": 2
   },
   "file_extension": ".py",
   "mimetype": "text/x-python",
   "name": "python",
   "nbconvert_exporter": "python",
   "pygments_lexer": "ipython2",
   "version": "2.7.13"
  }
 },
 "nbformat": 4,
 "nbformat_minor": 2
}
